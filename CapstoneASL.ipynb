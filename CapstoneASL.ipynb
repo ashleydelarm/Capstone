{
  "nbformat": 4,
  "nbformat_minor": 0,
  "metadata": {
    "colab": {
      "name": "CapstoneASL.ipynb",
      "provenance": [],
      "collapsed_sections": [],
      "authorship_tag": "ABX9TyOnx94ftbeDLFyxGzKfxu3A",
      "include_colab_link": true
    },
    "kernelspec": {
      "name": "python3",
      "display_name": "Python 3"
    },
    "language_info": {
      "name": "python"
    },
    "accelerator": "GPU"
  },
  "cells": [
    {
      "cell_type": "markdown",
      "metadata": {
        "id": "view-in-github",
        "colab_type": "text"
      },
      "source": [
        "<a href=\"https://colab.research.google.com/github/ashleydelarm/Capstone/blob/main/CapstoneASL.ipynb\" target=\"_parent\"><img src=\"https://colab.research.google.com/assets/colab-badge.svg\" alt=\"Open In Colab\"/></a>"
      ]
    },
    {
      "cell_type": "markdown",
      "metadata": {
        "id": "wAWxxHyYEY2Q"
      },
      "source": [
        "In this project, I will be training convolutional neural networks for image recognition of hands making American Sign Language gestures - specifically fingerspelling of the letters A-Z - in an attempt to recognize and relay what letter is being signed. To do this, I will lead in the data, break it into trainng and testing sets, and create several CNNs to train the data for the image recognition. I will then. determine which model is the most acccurate and successful. "
      ]
    },
    {
      "cell_type": "markdown",
      "metadata": {
        "id": "4JDhJ62rCGSf"
      },
      "source": [
        "Importing all of the necessary packages. If I need to import another package later in the project, I will put it in the below code block "
      ]
    },
    {
      "cell_type": "code",
      "metadata": {
        "colab": {
          "base_uri": "https://localhost:8080/"
        },
        "id": "Qpj_tPMlLtvX",
        "outputId": "7c6c4e10-2865-44b9-ca08-b4371a52c12e"
      },
      "source": [
        "df = od.download(\"https://www.kaggle.com/ayuraj/american-sign-language-dataset\")"
      ],
      "execution_count": null,
      "outputs": [
        {
          "output_type": "stream",
          "name": "stdout",
          "text": [
            "Skipping, found downloaded files in \"./american-sign-language-dataset\" (use force=True to force download)\n"
          ]
        }
      ]
    },
    {
      "cell_type": "markdown",
      "metadata": {
        "id": "7Oud2GdrSkBs"
      },
      "source": [
        "Not sure how to actually use code by taking it directly from the Kaggle API, so I'll download it throught Drive here as well"
      ]
    },
    {
      "cell_type": "code",
      "metadata": {
        "colab": {
          "base_uri": "https://localhost:8080/"
        },
        "id": "5QvlKTH-M0wd",
        "outputId": "d63311ba-2b0e-4eff-bd2a-f4bcccba4ae9"
      },
      "source": [
        "from google.colab import drive\n",
        "import pandas\n",
        "drive.mount('/content/drive', force_remount=True)"
      ],
      "execution_count": 2,
      "outputs": [
        {
          "output_type": "stream",
          "name": "stdout",
          "text": [
            "Mounted at /content/drive\n"
          ]
        }
      ]
    },
    {
      "cell_type": "code",
      "metadata": {
        "colab": {
          "base_uri": "https://localhost:8080/"
        },
        "id": "HeTfNnZQSyzI",
        "outputId": "a6d40ede-05b3-4d08-a1e9-7781add377d9"
      },
      "source": [
        "%tensorflow_version 2.x\n",
        "import tensorflow as tf\n",
        "device_name = tf.test.gpu_device_name()\n",
        "if device_name != '/device:GPU:0':\n",
        "  raise SystemError('GPU device not found')\n",
        "print('Found GPU at: {}'.format(device_name))"
      ],
      "execution_count": 3,
      "outputs": [
        {
          "output_type": "stream",
          "name": "stdout",
          "text": [
            "Found GPU at: /device:GPU:0\n"
          ]
        }
      ]
    },
    {
      "cell_type": "code",
      "metadata": {
        "colab": {
          "base_uri": "https://localhost:8080/"
        },
        "id": "hQqO__f9TC8h",
        "outputId": "0d8cbcda-3ec8-4914-920b-d7575474051e"
      },
      "source": [
        "import keras\n",
        "import tensorflow \n",
        "print (\"TensorFlow version: \" + tensorflow.__version__)\n",
        "print (\"Keras version: \" + keras.__version__)"
      ],
      "execution_count": 4,
      "outputs": [
        {
          "output_type": "stream",
          "name": "stdout",
          "text": [
            "TensorFlow version: 2.6.0\n",
            "Keras version: 2.6.0\n"
          ]
        }
      ]
    },
    {
      "cell_type": "code",
      "metadata": {
        "id": "O5ADNHogTgT_"
      },
      "source": [
        "#ignore warnings\n",
        "import warnings\n",
        "warnings.filterwarnings('ignore')"
      ],
      "execution_count": 5,
      "outputs": []
    },
    {
      "cell_type": "code",
      "metadata": {
        "id": "q-FeS5NsTlX8"
      },
      "source": [
        "#import keras\n",
        "import sys\n",
        "import matplotlib.pyplot as plt\n",
        "%matplotlib inline\n",
        "from tensorflow.keras.utils import to_categorical\n",
        "from keras.models import Sequential\n",
        "from keras.layers import Conv2D\n",
        "from keras.layers import MaxPooling2D\n",
        "from keras.layers import Dense\n",
        "from keras.layers import Flatten\n",
        "from tensorflow.keras.optimizers import SGD\n",
        "from keras.preprocessing.image import ImageDataGenerator\n",
        "import sys"
      ],
      "execution_count": 6,
      "outputs": []
    },
    {
      "cell_type": "code",
      "metadata": {
        "id": "R8FG7gkUTwyt"
      },
      "source": [
        "# dimensions of our images.\n",
        "img_width = 200\n",
        "img_height = 200\n",
        "\n",
        "#the directories where our train and test data is\n",
        "train_data_dir = '/content/drive/MyDrive/ColabNotebooks/asl/asl_alphabet_train/asl_alphabet_train' #2000 images\n",
        "test_data_dir = '/content/drive/MyDrive/ColabNotebooks/asl/asl_alphabet_test/asl_alphabet_test'   #400 images\n",
        "\n",
        "#we will feed the training images to the neural network\n",
        "#in batches of 32 images at a time so we don't have \n",
        "#to load the entire data set into memory\n",
        "batch_size = 32"
      ],
      "execution_count": 7,
      "outputs": []
    },
    {
      "cell_type": "code",
      "metadata": {
        "colab": {
          "base_uri": "https://localhost:8080/"
        },
        "id": "Cfs5TMaw2pwP",
        "outputId": "dd525167-9e8f-4905-93f4-eeb7b591c7a1"
      },
      "source": [
        "# used to rescale the pixel values from [0, 255] to between 0 and 1\n",
        "datagen = ImageDataGenerator(rescale=1.0/255.0)\n",
        "\n",
        "#These will look for our training and testing data\n",
        "#in their respective directory, and it will figure out\n",
        "#the class of each example based on the subfolder it is in\n",
        "train_data = datagen.flow_from_directory(\n",
        "        train_data_dir,\n",
        "        target_size=(img_width, img_height),\n",
        "        batch_size=batch_size,\n",
        "        class_mode='binary')\n",
        "\n",
        "test_data = datagen.flow_from_directory(\n",
        "        test_data_dir,\n",
        "        target_size=(img_width, img_height),\n",
        "        batch_size=batch_size,\n",
        "        class_mode='binary')"
      ],
      "execution_count": 8,
      "outputs": [
        {
          "output_type": "stream",
          "name": "stdout",
          "text": [
            "Found 78000 images belonging to 26 classes.\n",
            "Found 26 images belonging to 26 classes.\n"
          ]
        }
      ]
    },
    {
      "cell_type": "markdown",
      "metadata": {
        "id": "q05wwtMWAlP_"
      },
      "source": [
        "600 images of each letter in testing "
      ]
    },
    {
      "cell_type": "markdown",
      "metadata": {
        "id": "4gj5y6Apb-V6"
      },
      "source": [
        "Potential issue could be that there is only one test image per letter of the alphabet. This probably won't show if there is accuracy or not since there is only one test case "
      ]
    },
    {
      "cell_type": "code",
      "metadata": {
        "colab": {
          "base_uri": "https://localhost:8080/"
        },
        "id": "CIb_hlrI_t20",
        "outputId": "fc77da77-35c1-4f01-9dc1-98be1eec72a1"
      },
      "source": [
        "print(train_data_dir)"
      ],
      "execution_count": 9,
      "outputs": [
        {
          "output_type": "stream",
          "name": "stdout",
          "text": [
            "/content/drive/MyDrive/ColabNotebooks/asl/asl_alphabet_train/asl_alphabet_train\n"
          ]
        }
      ]
    },
    {
      "cell_type": "code",
      "metadata": {
        "id": "WcpEg1fBBFxe"
      },
      "source": [
        "path = '/content/drive/MyDrive/ColabNotebooks/asl/asl_alphabet_train/asl_alphabet_train/A/A1.jpg'"
      ],
      "execution_count": 10,
      "outputs": []
    },
    {
      "cell_type": "code",
      "metadata": {
        "colab": {
          "base_uri": "https://localhost:8080/",
          "height": 217
        },
        "id": "pO-iwLuKeLeq",
        "outputId": "2a465409-18bb-435f-dfad-5a8e81f3dd9f"
      },
      "source": [
        "#import Image\n",
        "from IPython.display import Image\n",
        "Image(path)\n"
      ],
      "execution_count": 15,
      "outputs": [
        {
          "output_type": "execute_result",
          "data": {
            "image/jpeg": "[encoded data removed]",
            "text/plain": [
              "<IPython.core.display.Image object>"
            ]
          },
          "metadata": {},
          "execution_count": 15
        }
      ]
    },
    {
      "cell_type": "code",
      "metadata": {
        "id": "aZm70Zn5erX-"
      },
      "source": [
        ""
      ],
      "execution_count": null,
      "outputs": []
    }
  ]
}